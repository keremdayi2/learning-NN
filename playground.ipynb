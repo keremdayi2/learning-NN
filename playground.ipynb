{
 "cells": [
  {
   "cell_type": "code",
   "execution_count": 1,
   "id": "14660900",
   "metadata": {},
   "outputs": [],
   "source": [
    "import torch"
   ]
  },
  {
   "cell_type": "code",
   "execution_count": 26,
   "id": "f5122772",
   "metadata": {},
   "outputs": [],
   "source": [
    "B = 4\n",
    "k = 2\n",
    "d = 3\n",
    "\n",
    "x = torch.randn(B, d)\n",
    "masks = torch.zeros(k, d)\n",
    "masks[0][0] = 1\n",
    "masks[0][1] = 1\n",
    "masks[1][1] = 1"
   ]
  },
  {
   "cell_type": "code",
   "execution_count": 27,
   "id": "d9ab6167",
   "metadata": {},
   "outputs": [
    {
     "data": {
      "text/plain": [
       "tensor([[-0.4473,  0.4871,  0.5823],\n",
       "        [-0.1985,  1.1174, -1.3379],\n",
       "        [-0.2109, -0.1071, -0.1885],\n",
       "        [-0.3595, -2.1864, -0.6635]])"
      ]
     },
     "execution_count": 27,
     "metadata": {},
     "output_type": "execute_result"
    }
   ],
   "source": [
    "x"
   ]
  },
  {
   "cell_type": "code",
   "execution_count": 28,
   "id": "b25fe133",
   "metadata": {},
   "outputs": [
    {
     "data": {
      "text/plain": [
       "(torch.Size([4, 2, 3]), torch.Size([4, 2, 3]))"
      ]
     },
     "execution_count": 28,
     "metadata": {},
     "output_type": "execute_result"
    }
   ],
   "source": [
    "x = x.unsqueeze(1).repeat(1, k, 1)\n",
    "masks = masks.unsqueeze(0).repeat(B, 1, 1)\n",
    "x.shape, masks.shape"
   ]
  },
  {
   "cell_type": "code",
   "execution_count": 32,
   "id": "25628322",
   "metadata": {},
   "outputs": [],
   "source": [
    "y = x * masks\n",
    "y = y + (1 - masks)\n",
    "y = y.prod(2).sum(1)"
   ]
  },
  {
   "cell_type": "code",
   "execution_count": 39,
   "id": "723aa669",
   "metadata": {},
   "outputs": [],
   "source": [
    "assert torch.allclose(y, x[:,0,0] * x[:, 0, 1] + x[:, 1, 1])"
   ]
  },
  {
   "cell_type": "code",
   "execution_count": 40,
   "id": "ce3a50f5",
   "metadata": {},
   "outputs": [
    {
     "ename": "AttributeError",
     "evalue": "module 'torch.random' has no attribute 'choice'",
     "output_type": "error",
     "traceback": [
      "\u001b[0;31m---------------------------------------------------------------------------\u001b[0m",
      "\u001b[0;31mAttributeError\u001b[0m                            Traceback (most recent call last)",
      "Cell \u001b[0;32mIn[40], line 1\u001b[0m\n\u001b[0;32m----> 1\u001b[0m \u001b[43mtorch\u001b[49m\u001b[38;5;241;43m.\u001b[39;49m\u001b[43mrandom\u001b[49m\u001b[38;5;241;43m.\u001b[39;49m\u001b[43mchoice\u001b[49m()\n",
      "\u001b[0;31mAttributeError\u001b[0m: module 'torch.random' has no attribute 'choice'"
     ]
    }
   ],
   "source": [
    "torch.random.choice()"
   ]
  },
  {
   "cell_type": "code",
   "execution_count": null,
   "id": "98bee537",
   "metadata": {},
   "outputs": [],
   "source": []
  }
 ],
 "metadata": {
  "kernelspec": {
   "display_name": "Python 3 (ipykernel)",
   "language": "python",
   "name": "python3"
  },
  "language_info": {
   "codemirror_mode": {
    "name": "ipython",
    "version": 3
   },
   "file_extension": ".py",
   "mimetype": "text/x-python",
   "name": "python",
   "nbconvert_exporter": "python",
   "pygments_lexer": "ipython3",
   "version": "3.10.6"
  }
 },
 "nbformat": 4,
 "nbformat_minor": 5
}
